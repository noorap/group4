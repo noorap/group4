{
 "cells": [
  {
   "cell_type": "code",
   "execution_count": 1,
   "id": "3010fcf1",
   "metadata": {},
   "outputs": [],
   "source": [
    "# IMporting the libraries\n",
    "import pandas as pd\n",
    "import numpy as np\n",
    "import matplotlib.pyplot as plt\n",
    "import seaborn as sns"
   ]
  },
  {
   "cell_type": "code",
   "execution_count": 2,
   "id": "c9da619f",
   "metadata": {},
   "outputs": [
    {
     "name": "stdout",
     "output_type": "stream",
     "text": [
      "           Tour_ID                   country age_group  \\\n",
      "0  tour_id1hffseyw                     ITALY     45-64   \n",
      "1  tour_idnacd7zag            UNITED KINGDOM     25-44   \n",
      "2  tour_id62vz7e71  UNITED STATES OF AMERICA       65+   \n",
      "3  tour_idrc76tzix                    RWANDA     25-44   \n",
      "4  tour_idn723m0n9  UNITED STATES OF AMERICA     45-64   \n",
      "\n",
      "                travel_with  total_female  total_male  \\\n",
      "0             With Children           0.0         2.0   \n",
      "1               With Spouse           1.0         1.0   \n",
      "2               With Spouse           1.0         1.0   \n",
      "3  With Spouse and Children           3.0         1.0   \n",
      "4                     Alone           0.0         1.0   \n",
      "\n",
      "                          purpose     main_activity  \\\n",
      "0  Visiting Friends and Relatives     Beach Tourism   \n",
      "1            Leisure and Holidays  Wildlife Tourism   \n",
      "2            Leisure and Holidays   Widlife Tourism   \n",
      "3            Leisure and Holidays     Beach Tourism   \n",
      "4            Leisure and Holidays   Widlife Tourism   \n",
      "\n",
      "                   info_source tour_arrangement  ... package_accomodation  \\\n",
      "0           Friends, relatives     Package Tour  ...                  Yes   \n",
      "1  Travel agent, tour operator     Package Tour  ...                  Yes   \n",
      "2  Travel agent, tour operator     Package Tour  ...                  Yes   \n",
      "3               Radio, TV, Web      Independent  ...                   No   \n",
      "4  Travel agent, tour operator     Package Tour  ...                  Yes   \n",
      "\n",
      "  package_food package_transport_tz package_sightseeing package_guided_tour  \\\n",
      "0          Yes                  Yes                  No                  No   \n",
      "1          Yes                  Yes                  No                  No   \n",
      "2          Yes                  Yes                 Yes                 Yes   \n",
      "3           No                   No                  No                  No   \n",
      "4          Yes                  Yes                  No                 Yes   \n",
      "\n",
      "  package_insurance night_mainland  night_zanzibar  first_trip_tz  \\\n",
      "0                No              0               7            Yes   \n",
      "1                No              0               7            Yes   \n",
      "2                No              6               6            Yes   \n",
      "3                No              3               0             No   \n",
      "4               Yes              7               0            Yes   \n",
      "\n",
      "  cost_category  \n",
      "0     High Cost  \n",
      "1     High Cost  \n",
      "2   Higher Cost  \n",
      "3    Lower Cost  \n",
      "4   Higher Cost  \n",
      "\n",
      "[5 rows x 21 columns]\n"
     ]
    }
   ],
   "source": [
    "#Read Dataset  \n",
    "data=pd.read_csv('Train.csv')\n",
    "print(data.head())"
   ]
  },
  {
   "cell_type": "code",
   "execution_count": 3,
   "id": "ad478abf",
   "metadata": {},
   "outputs": [
    {
     "name": "stdout",
     "output_type": "stream",
     "text": [
      "(18506, 21)\n"
     ]
    }
   ],
   "source": [
    "print(data.shape)"
   ]
  },
  {
   "cell_type": "code",
   "execution_count": 4,
   "id": "b8784c79",
   "metadata": {},
   "outputs": [
    {
     "name": "stdout",
     "output_type": "stream",
     "text": [
      "Index(['Tour_ID', 'country', 'age_group', 'travel_with', 'total_female',\n",
      "       'total_male', 'purpose', 'main_activity', 'info_source',\n",
      "       'tour_arrangement', 'package_transport_int', 'package_accomodation',\n",
      "       'package_food', 'package_transport_tz', 'package_sightseeing',\n",
      "       'package_guided_tour', 'package_insurance', 'night_mainland',\n",
      "       'night_zanzibar', 'first_trip_tz', 'cost_category'],\n",
      "      dtype='object')\n"
     ]
    }
   ],
   "source": [
    "print(data.columns)"
   ]
  },
  {
   "cell_type": "code",
   "execution_count": 5,
   "id": "921dfb8f",
   "metadata": {
    "scrolled": true
   },
   "outputs": [
    {
     "data": {
      "text/plain": [
       "Tour_ID                   object\n",
       "country                   object\n",
       "age_group                 object\n",
       "travel_with               object\n",
       "total_female             float64\n",
       "total_male               float64\n",
       "purpose                   object\n",
       "main_activity             object\n",
       "info_source               object\n",
       "tour_arrangement          object\n",
       "package_transport_int     object\n",
       "package_accomodation      object\n",
       "package_food              object\n",
       "package_transport_tz      object\n",
       "package_sightseeing       object\n",
       "package_guided_tour       object\n",
       "package_insurance         object\n",
       "night_mainland             int64\n",
       "night_zanzibar             int64\n",
       "first_trip_tz             object\n",
       "cost_category             object\n",
       "dtype: object"
      ]
     },
     "execution_count": 5,
     "metadata": {},
     "output_type": "execute_result"
    }
   ],
   "source": [
    "data.dtypes"
   ]
  },
  {
   "cell_type": "code",
   "execution_count": null,
   "id": "0b5cf498",
   "metadata": {},
   "outputs": [],
   "source": [
    "l2=[]\n",
    "l1=data['age_group'].tolist()\n",
    "for i in l1:\n",
    "    if i=='18-24':\n",
    "        age='young'\n",
    "    elif i=='25-44':\n",
    "        age='adult'\n",
    "    elif i=='45-64':\n",
    "        age='senior'\n",
    "    else:\n",
    "        age='super_senior'\n",
    "    l2.append(age)\n",
    "data['age']=l2\n",
    "data"
   ]
  },
  {
   "cell_type": "markdown",
   "id": "c8b1e858",
   "metadata": {},
   "source": [
    "# PreProcessing"
   ]
  },
  {
   "cell_type": "markdown",
   "id": "c4f94666",
   "metadata": {},
   "source": [
    "##  1.Missing value Handling"
   ]
  },
  {
   "cell_type": "code",
   "execution_count": 6,
   "id": "26017fec",
   "metadata": {},
   "outputs": [
    {
     "data": {
      "text/plain": [
       "Tour_ID                     0\n",
       "country                     0\n",
       "age_group                   0\n",
       "travel_with              1075\n",
       "total_female                2\n",
       "total_male                  6\n",
       "purpose                     0\n",
       "main_activity               0\n",
       "info_source                 0\n",
       "tour_arrangement            0\n",
       "package_transport_int       0\n",
       "package_accomodation        0\n",
       "package_food                0\n",
       "package_transport_tz        0\n",
       "package_sightseeing         0\n",
       "package_guided_tour         0\n",
       "package_insurance           0\n",
       "night_mainland              0\n",
       "night_zanzibar              0\n",
       "first_trip_tz               0\n",
       "cost_category               0\n",
       "dtype: int64"
      ]
     },
     "execution_count": 6,
     "metadata": {},
     "output_type": "execute_result"
    }
   ],
   "source": [
    "data.isna().sum()"
   ]
  },
  {
   "cell_type": "markdown",
   "id": "6e20b0ad",
   "metadata": {},
   "source": [
    "There are 1075 missing values in the column travel_with , 2 in the column total_female and 6 in the total_male"
   ]
  },
  {
   "cell_type": "code",
   "execution_count": 7,
   "id": "0dc83f1b",
   "metadata": {},
   "outputs": [],
   "source": [
    "data['total_female']=data['total_female'].fillna(data['total_female'].median())"
   ]
  },
  {
   "cell_type": "code",
   "execution_count": 8,
   "id": "16fae8ce",
   "metadata": {},
   "outputs": [],
   "source": [
    "data['total_male']=data['total_male'].fillna(data['total_male'].median())"
   ]
  },
  {
   "cell_type": "code",
   "execution_count": 9,
   "id": "a8a5a6a4",
   "metadata": {},
   "outputs": [],
   "source": [
    "data.ffill(axis=0,inplace=True)"
   ]
  },
  {
   "cell_type": "code",
   "execution_count": 10,
   "id": "20e1c3b7",
   "metadata": {},
   "outputs": [
    {
     "data": {
      "text/plain": [
       "Tour_ID                  0\n",
       "country                  0\n",
       "age_group                0\n",
       "travel_with              0\n",
       "total_female             0\n",
       "total_male               0\n",
       "purpose                  0\n",
       "main_activity            0\n",
       "info_source              0\n",
       "tour_arrangement         0\n",
       "package_transport_int    0\n",
       "package_accomodation     0\n",
       "package_food             0\n",
       "package_transport_tz     0\n",
       "package_sightseeing      0\n",
       "package_guided_tour      0\n",
       "package_insurance        0\n",
       "night_mainland           0\n",
       "night_zanzibar           0\n",
       "first_trip_tz            0\n",
       "cost_category            0\n",
       "dtype: int64"
      ]
     },
     "execution_count": 10,
     "metadata": {},
     "output_type": "execute_result"
    }
   ],
   "source": [
    "data.isna().sum()"
   ]
  },
  {
   "cell_type": "markdown",
   "id": "ffcbccfd",
   "metadata": {},
   "source": [
    "Now all the missing values are replaced"
   ]
  },
  {
   "cell_type": "markdown",
   "id": "41f90949",
   "metadata": {},
   "source": [
    "## 2.Outlier detection and handling"
   ]
  },
  {
   "cell_type": "code",
   "execution_count": null,
   "id": "e8a85dcb",
   "metadata": {},
   "outputs": [],
   "source": [
    "plt.boxplot"
   ]
  },
  {
   "cell_type": "code",
   "execution_count": null,
   "id": "5fca6c8f",
   "metadata": {},
   "outputs": [],
   "source": []
  },
  {
   "cell_type": "code",
   "execution_count": null,
   "id": "29da372f",
   "metadata": {},
   "outputs": [],
   "source": []
  },
  {
   "cell_type": "code",
   "execution_count": null,
   "id": "5d1ef18b",
   "metadata": {},
   "outputs": [],
   "source": []
  },
  {
   "cell_type": "code",
   "execution_count": null,
   "id": "71a5226c",
   "metadata": {},
   "outputs": [],
   "source": []
  },
  {
   "cell_type": "markdown",
   "id": "34352b33",
   "metadata": {},
   "source": [
    "## 2.Encoding"
   ]
  },
  {
   "cell_type": "code",
   "execution_count": null,
   "id": "b8886854",
   "metadata": {},
   "outputs": [],
   "source": [
    "data['travel_with'].value_counts()"
   ]
  },
  {
   "cell_type": "code",
   "execution_count": null,
   "id": "051b29e4",
   "metadata": {},
   "outputs": [],
   "source": [
    "# Label Encoding 'travel_with'\n",
    "from sklearn.preprocessing import LabelEncoder\n",
    "label_en=LabelEncoder()\n",
    "a=['travel_with']\n",
    "for i in np.arange(len(a)):\n",
    "    data[a[i]]=label_en.fit_transform(data[a[i]])\n"
   ]
  },
  {
   "cell_type": "code",
   "execution_count": null,
   "id": "e68accf5",
   "metadata": {},
   "outputs": [],
   "source": [
    "data['travel_with'].value_counts()"
   ]
  },
  {
   "cell_type": "code",
   "execution_count": null,
   "id": "dfd42692",
   "metadata": {},
   "outputs": [],
   "source": [
    "data['purpose'].value_counts()"
   ]
  },
  {
   "cell_type": "code",
   "execution_count": null,
   "id": "f477ba0a",
   "metadata": {},
   "outputs": [],
   "source": [
    "# Label Encoding 'purpose'\n",
    "label_en=LabelEncoder()\n",
    "a=['purpose']\n",
    "for i in np.arange(len(a)):\n",
    "    data[a[i]]=label_en.fit_transform(data[a[i]])"
   ]
  },
  {
   "cell_type": "code",
   "execution_count": null,
   "id": "5a1d272e",
   "metadata": {},
   "outputs": [],
   "source": [
    "data['purpose'].value_counts()"
   ]
  },
  {
   "cell_type": "code",
   "execution_count": null,
   "id": "3c8fc78e",
   "metadata": {},
   "outputs": [],
   "source": [
    "data['main_activity'].value_counts()"
   ]
  },
  {
   "cell_type": "code",
   "execution_count": null,
   "id": "e3c29009",
   "metadata": {},
   "outputs": [],
   "source": [
    "# Label Encoding 'main_activity'\n",
    "label_en=LabelEncoder()\n",
    "a=['main_activity']\n",
    "for i in np.arange(len(a)):\n",
    "    data[a[i]]=label_en.fit_transform(data[a[i]])"
   ]
  },
  {
   "cell_type": "code",
   "execution_count": null,
   "id": "1a9d6a39",
   "metadata": {},
   "outputs": [],
   "source": [
    "data['main_activity'].value_counts()"
   ]
  },
  {
   "cell_type": "code",
   "execution_count": null,
   "id": "8a419168",
   "metadata": {},
   "outputs": [],
   "source": [
    "data['info_source'].value_counts()"
   ]
  },
  {
   "cell_type": "code",
   "execution_count": null,
   "id": "823cdca8",
   "metadata": {},
   "outputs": [],
   "source": [
    "# Label Encoding 'info_source'\n",
    "label_en=LabelEncoder()\n",
    "a=['info_source']\n",
    "for i in np.arange(len(a)):\n",
    "    data[a[i]]=label_en.fit_transform(data[a[i]])"
   ]
  },
  {
   "cell_type": "code",
   "execution_count": null,
   "id": "3cd29e04",
   "metadata": {},
   "outputs": [],
   "source": [
    "data['info_source'].value_counts()"
   ]
  },
  {
   "cell_type": "code",
   "execution_count": null,
   "id": "a4a1ecd5",
   "metadata": {},
   "outputs": [],
   "source": [
    "data['cost_category'].value_counts()"
   ]
  },
  {
   "cell_type": "code",
   "execution_count": null,
   "id": "bce97c8c",
   "metadata": {},
   "outputs": [],
   "source": [
    "# Label Encoding 'cost_category'\n",
    "label_en=LabelEncoder()\n",
    "a=['cost_category']\n",
    "for i in np.arange(len(a)):\n",
    "    data[a[i]]=label_en.fit_transform(data[a[i]])\n"
   ]
  },
  {
   "cell_type": "code",
   "execution_count": null,
   "id": "06ccbe50",
   "metadata": {},
   "outputs": [],
   "source": [
    "data['cost_category'].value_counts()"
   ]
  },
  {
   "cell_type": "code",
   "execution_count": null,
   "id": "685f2c7e",
   "metadata": {},
   "outputs": [],
   "source": [
    "data['age'].value_counts()"
   ]
  },
  {
   "cell_type": "code",
   "execution_count": null,
   "id": "3e6f0840",
   "metadata": {},
   "outputs": [],
   "source": [
    "label_en=LabelEncoder()\n",
    "a=['age']\n",
    "for i in np.arange(len(a)):\n",
    "    data[a[i]]=label_en.fit_transform(data[a[i]])\n"
   ]
  },
  {
   "cell_type": "code",
   "execution_count": null,
   "id": "e3508df9",
   "metadata": {},
   "outputs": [],
   "source": [
    "data['age'].value_counts()"
   ]
  },
  {
   "cell_type": "code",
   "execution_count": null,
   "id": "aa0c0f40",
   "metadata": {},
   "outputs": [],
   "source": [
    "data['tour_arrangement'].value_counts()"
   ]
  },
  {
   "cell_type": "code",
   "execution_count": null,
   "id": "4b6834cd",
   "metadata": {},
   "outputs": [],
   "source": [
    "label_en=LabelEncoder()\n",
    "a=['tour_arrangement']\n",
    "for i in np.arange(len(a)):\n",
    "    data[a[i]]=label_en.fit_transform(data[a[i]])\n"
   ]
  },
  {
   "cell_type": "code",
   "execution_count": null,
   "id": "2b2f29df",
   "metadata": {},
   "outputs": [],
   "source": [
    "data['tour_arrangement'].value_counts()"
   ]
  },
  {
   "cell_type": "code",
   "execution_count": null,
   "id": "60cbcd20",
   "metadata": {},
   "outputs": [],
   "source": [
    "# One hot encoding\n",
    "one_hot_encoded_data = pd.get_dummies(data, columns = ['package_transport_int','package_accomodation','package_food','package_transport_tz', 'package_sightseeing',\n",
    "       'package_guided_tour', 'package_insurance','first_trip_tz'])\n",
    "one_hot_encoded_data"
   ]
  },
  {
   "cell_type": "code",
   "execution_count": null,
   "id": "131b7ef6",
   "metadata": {},
   "outputs": [],
   "source": [
    "data.columns"
   ]
  },
  {
   "cell_type": "code",
   "execution_count": null,
   "id": "aec1768d",
   "metadata": {},
   "outputs": [],
   "source": []
  },
  {
   "cell_type": "code",
   "execution_count": null,
   "id": "48f7d962",
   "metadata": {},
   "outputs": [],
   "source": []
  },
  {
   "cell_type": "markdown",
   "id": "6534083d",
   "metadata": {},
   "source": [
    "## 3.Feature reduction"
   ]
  },
  {
   "cell_type": "code",
   "execution_count": null,
   "id": "a110cba6",
   "metadata": {},
   "outputs": [],
   "source": [
    "# Checking columns\n",
    "data.columns"
   ]
  },
  {
   "cell_type": "code",
   "execution_count": null,
   "id": "9aef3786",
   "metadata": {},
   "outputs": [],
   "source": [
    "# Droping 'age_group'\n",
    "data.drop(['age_group'],axis=1,inplace=True)"
   ]
  },
  {
   "cell_type": "code",
   "execution_count": null,
   "id": "29168e11",
   "metadata": {},
   "outputs": [],
   "source": [
    "# Combining 'total_male'  and 'total_female'\n",
    "data['total_size']=data['total_male']+data['total_female']\n",
    "data.drop(['total_male'],axis=1,inplace=True)\n",
    "data.drop(['total_female'],axis=1,inplace=True)"
   ]
  },
  {
   "cell_type": "code",
   "execution_count": null,
   "id": "b097de12",
   "metadata": {},
   "outputs": [],
   "source": [
    "data"
   ]
  },
  {
   "cell_type": "code",
   "execution_count": null,
   "id": "ac0508dd",
   "metadata": {},
   "outputs": [],
   "source": [
    "data.drop(['Tour_ID'],axis=1,inplace=True)"
   ]
  },
  {
   "cell_type": "code",
   "execution_count": null,
   "id": "2e0078bf",
   "metadata": {},
   "outputs": [],
   "source": [
    "data"
   ]
  },
  {
   "cell_type": "code",
   "execution_count": null,
   "id": "498ad71b",
   "metadata": {},
   "outputs": [],
   "source": []
  },
  {
   "cell_type": "code",
   "execution_count": null,
   "id": "68f11ad3",
   "metadata": {},
   "outputs": [],
   "source": [
    "\n",
    "from sklearn.model_selection import train_test_split\n",
    "corrmatrix=data.corr()\n",
    "plt.subplots(figsize=(20,8))\n",
    "sns.heatmap(corrmatrix,vmin=-0.4,vmax=0.9,annot=True,linewidth=0.2,cmap='YlGnBu')"
   ]
  },
  {
   "cell_type": "code",
   "execution_count": null,
   "id": "056fff55",
   "metadata": {},
   "outputs": [],
   "source": []
  },
  {
   "cell_type": "code",
   "execution_count": null,
   "id": "19c53224",
   "metadata": {},
   "outputs": [],
   "source": []
  }
 ],
 "metadata": {
  "kernelspec": {
   "display_name": "Python 3 (ipykernel)",
   "language": "python",
   "name": "python3"
  },
  "language_info": {
   "codemirror_mode": {
    "name": "ipython",
    "version": 3
   },
   "file_extension": ".py",
   "mimetype": "text/x-python",
   "name": "python",
   "nbconvert_exporter": "python",
   "pygments_lexer": "ipython3",
   "version": "3.9.12"
  }
 },
 "nbformat": 4,
 "nbformat_minor": 5
}
